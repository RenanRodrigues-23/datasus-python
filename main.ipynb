{
 "cells": [
  {
   "cell_type": "code",
   "execution_count": 5,
   "metadata": {},
   "outputs": [
    {
     "ename": "ModuleNotFoundError",
     "evalue": "No module named 'pysus.utilities.readdbc'",
     "output_type": "error",
     "traceback": [
      "\u001b[0;31m---------------------------------------------------------------------------\u001b[0m",
      "\u001b[0;31mModuleNotFoundError\u001b[0m                       Traceback (most recent call last)",
      "\u001b[1;32m/home/renan/dev/python/datasus-python/main.ipynb Cell 1\u001b[0m line \u001b[0;36m1\n\u001b[0;32m----> <a href='vscode-notebook-cell:/home/renan/dev/python/datasus-python/main.ipynb#X10sZmlsZQ%3D%3D?line=0'>1</a>\u001b[0m \u001b[39mfrom\u001b[39;00m \u001b[39mpysus\u001b[39;00m\u001b[39m.\u001b[39;00m\u001b[39mutilities\u001b[39;00m\u001b[39m.\u001b[39;00m\u001b[39mreaddbc\u001b[39;00m \u001b[39mimport\u001b[39;00m read_dbc, read_dbc_dbf, dbc2dbf, dbf_to_csvgz\n",
      "\u001b[0;31mModuleNotFoundError\u001b[0m: No module named 'pysus.utilities.readdbc'"
     ]
    }
   ],
   "source": [
    "from pysus.utilities.readdbc import read_dbc, read_dbc_dbf, dbc2dbf, dbf_to_csvgz"
   ]
  },
  {
   "cell_type": "code",
   "execution_count": 2,
   "metadata": {},
   "outputs": [],
   "source": [
    "import os\n",
    "import pandas as pd\n",
    "import dbfread\n",
    "from ftplib import FTP\n",
    "\n",
    "CACHEPATH = os.getcwd() + \"/\""
   ]
  },
  {
   "cell_type": "code",
   "execution_count": 2,
   "metadata": {},
   "outputs": [],
   "source": [
    "ftp = FTP('ftp.datasus.gov.br')\n",
    "ftp.login()\n",
    "ftp.cwd('/dissemin/publicos/SIASUS/200801_/Dados')\n",
    "\n",
    "dir_list = []#Aqui ficarão guardados todos os arquivos disponíveis para download\n",
    "ftp.dir(dir_list.append)\n",
    "     "
   ]
  },
  {
   "cell_type": "markdown",
   "metadata": {},
   "source": [
    "https://github.com/andersonfedel/DATASUS-SIA-Extract/blob/main/DATASUS_extract.ipynb"
   ]
  },
  {
   "cell_type": "code",
   "execution_count": 12,
   "metadata": {},
   "outputs": [],
   "source": [
    "locais = [\"PB\", \"RN\"]\n",
    "anos = [\"21\"]\n",
    "meses = [\"01\"]\n",
    "\n",
    "arquivos = []\n",
    "\n",
    "for local in locais:\n",
    "  for ano in anos:\n",
    "    for mes in meses:\n",
    "      #filename = f\"PA{local}{ano}{mes}.dbc\"\n",
    "      tempfilename = f\"PA{local}{ano}{mes}\"\n",
    "      for i in dir_list:\n",
    "        if tempfilename in i:\n",
    "          #print(i.split()[-1])\n",
    "          arquivos.append(i.split()[-1])\n",
    "      for arquivo in arquivos:\n",
    "        A = arquivo\n",
    "        try:\n",
    "          ftp.retrbinary(\"RETR \" + arquivo ,open(CACHEPATH + A, 'wb').write)\n",
    "        except IOError as e:\n",
    "          if e.errno == errno.EPIPE:\n",
    "            pass"
   ]
  },
  {
   "cell_type": "code",
   "execution_count": 3,
   "metadata": {},
   "outputs": [
    {
     "name": "stdout",
     "output_type": "stream",
     "text": [
      "PAPB2101.dbc\n",
      "DOPB2021.dbc\n",
      "PARN2101.dbc\n"
     ]
    }
   ],
   "source": [
    "for file in os.listdir(CACHEPATH + 'data/'): #Iterando sobre arquivos baixados anteriormente\n",
    "  if str(file).endswith(\".dbc\"):   \n",
    "    print(file)"
   ]
  },
  {
   "cell_type": "code",
   "execution_count": null,
   "metadata": {},
   "outputs": [],
   "source": [
    "# to do : conseguir ler arquivos dbc\n"
   ]
  }
 ],
 "metadata": {
  "kernelspec": {
   "display_name": "venv",
   "language": "python",
   "name": "python3"
  },
  "language_info": {
   "codemirror_mode": {
    "name": "ipython",
    "version": 3
   },
   "file_extension": ".py",
   "mimetype": "text/x-python",
   "name": "python",
   "nbconvert_exporter": "python",
   "pygments_lexer": "ipython3",
   "version": "3.10.12"
  }
 },
 "nbformat": 4,
 "nbformat_minor": 2
}
