{
 "cells": [
  {
   "cell_type": "code",
   "execution_count": 10,
   "metadata": {},
   "outputs": [],
   "source": [
    "import os\n",
    "import pandas as pd\n",
    "import dbfread\n",
    "from ftplib import FTP\n",
    "\n",
    "CACHEPATH = os.getcwd() + \"/\""
   ]
  },
  {
   "cell_type": "code",
   "execution_count": 2,
   "metadata": {},
   "outputs": [],
   "source": [
    "ftp = FTP('ftp.datasus.gov.br')\n",
    "ftp.login()\n",
    "ftp.cwd('/dissemin/publicos/SIASUS/200801_/Dados')\n",
    "\n",
    "dir_list = []#Aqui ficarão guardados todos os arquivos disponíveis para download\n",
    "ftp.dir(dir_list.append)\n",
    "     "
   ]
  },
  {
   "cell_type": "code",
   "execution_count": 12,
   "metadata": {},
   "outputs": [],
   "source": [
    "locais = [\"PB\", \"RN\"]\n",
    "anos = [\"21\"]\n",
    "meses = [\"01\"]\n",
    "\n",
    "arquivos = []\n",
    "\n",
    "for local in locais:\n",
    "  for ano in anos:\n",
    "    for mes in meses:\n",
    "      #filename = f\"PA{local}{ano}{mes}.dbc\"\n",
    "      tempfilename = f\"PA{local}{ano}{mes}\"\n",
    "      for i in dir_list:\n",
    "        if tempfilename in i:\n",
    "          #print(i.split()[-1])\n",
    "          arquivos.append(i.split()[-1])\n",
    "      for arquivo in arquivos:\n",
    "        A = arquivo\n",
    "        try:\n",
    "          ftp.retrbinary(\"RETR \" + arquivo ,open(CACHEPATH + A, 'wb').write)\n",
    "        except IOError as e:\n",
    "          if e.errno == errno.EPIPE:\n",
    "            pass"
   ]
  },
  {
   "cell_type": "code",
   "execution_count": null,
   "metadata": {},
   "outputs": [],
   "source": []
  }
 ],
 "metadata": {
  "kernelspec": {
   "display_name": "venv",
   "language": "python",
   "name": "python3"
  },
  "language_info": {
   "codemirror_mode": {
    "name": "ipython",
    "version": 3
   },
   "file_extension": ".py",
   "mimetype": "text/x-python",
   "name": "python",
   "nbconvert_exporter": "python",
   "pygments_lexer": "ipython3",
   "version": "3.10.12"
  }
 },
 "nbformat": 4,
 "nbformat_minor": 2
}
