{
 "cells": [
  {
   "cell_type": "code",
   "execution_count": 4,
   "metadata": {},
   "outputs": [
    {
     "ename": "ModuleNotFoundError",
     "evalue": "No module named 'dbfread'",
     "output_type": "error",
     "traceback": [
      "\u001b[1;31m---------------------------------------------------------------------------\u001b[0m",
      "\u001b[1;31mModuleNotFoundError\u001b[0m                       Traceback (most recent call last)",
      "Cell \u001b[1;32mIn[4], line 2\u001b[0m\n\u001b[0;32m      1\u001b[0m \u001b[38;5;66;03m# TESTE COM DBFREAD PARA LER \u001b[39;00m\n\u001b[1;32m----> 2\u001b[0m \u001b[38;5;28;01mfrom\u001b[39;00m \u001b[38;5;21;01mdbfread\u001b[39;00m \u001b[38;5;28;01mimport\u001b[39;00m DBF\n\u001b[0;32m      4\u001b[0m \u001b[38;5;66;03m# Caminho para o arquivo .dbc\u001b[39;00m\n\u001b[0;32m      5\u001b[0m caminho_arquivo_dbc \u001b[38;5;241m=\u001b[39m \u001b[38;5;124m'\u001b[39m\u001b[38;5;124mPARN2101.dbc\u001b[39m\u001b[38;5;124m'\u001b[39m\n",
      "\u001b[1;31mModuleNotFoundError\u001b[0m: No module named 'dbfread'"
     ]
    }
   ],
   "source": [
    "# TESTE COM DBFREAD PARA LER \n",
    "from dbfread import DBF\n",
    "\n",
    "# Caminho para o arquivo .dbc\n",
    "caminho_arquivo_dbc = 'PARN2101.dbc'\n",
    "\n",
    "# Use a função DBF para ler o arquivo .dbc, especificando a codificação\n",
    "tabela_dbf = DBF(caminho_arquivo_dbc, encoding='latin1')\n",
    "\n",
    "# Iterar sobre os registros na tabela\n",
    "for registro in tabela_dbf:\n",
    "    # Inclua um tratamento de exceção para conversão de dados\n",
    "    try:\n",
    "        # Tente converter os dados para um número\n",
    "        valor_numerico = float(registro['nome_do_campo_com_dados_numericos'])\n",
    "        # Faça o tratamento necessário com os dados numéricos\n",
    "        print(valor_numerico)\n",
    "    except ValueError:\n",
    "        # Se a conversão falhar, trate os dados de outra forma ou apenas ignore-os\n",
    "        print(\"Valor não pôde ser convertido para um número:\", registro['nome_do_campo_com_dados_numericos'])\n"
   ]
  },
  {
   "cell_type": "code",
   "execution_count": 15,
   "metadata": {},
   "outputs": [],
   "source": [
    "# teste para tranformar + exceção\n",
    "\n",
    "import csv\n",
    "from dbfread import DBF\n",
    "\n",
    "# Caminho para o arquivo .dbc\n",
    "caminho_arquivo_dbc = 'PAPB2101.dbc'\n",
    "\n",
    "# Use a função DBF para ler o arquivo .dbc\n",
    "tabela_dbf = DBF(caminho_arquivo_dbc, encoding='latin1')\n",
    "\n",
    "# Caminho para o arquivo CSV de saída\n",
    "caminho_arquivo_csv = 'PARN2101.csv'\n",
    "\n",
    "# Escrever os dados da tabela em um arquivo CSV\n",
    "with open(caminho_arquivo_csv, 'w', newline='', encoding='utf-8') as f:\n",
    "    writer = csv.writer(f)\n",
    "    # Escreva os cabeçalhos das colunas\n",
    "    writer.writerow(tabela_dbf.field_names)\n",
    "    # Escreva os dados das linhas\n",
    "    for registro in tabela_dbf:\n",
    "        # Inicialize uma lista para armazenar os valores convertidos\n",
    "        valores_convertidos = []\n",
    "        # Itere sobre os valores do registro\n",
    "        for valor in registro.values():\n",
    "            # Inclua tratamento de exceção para conversão de dados\n",
    "            try:\n",
    "                # Tente decodificar o valor para utf-8\n",
    "                valor_decodificado = valor.decode('utf-8')\n",
    "                # Tente converter o valor decodificado para float\n",
    "                valor_convertido = float(valor_decodificado)\n",
    "            except (UnicodeDecodeError, ValueError):\n",
    "                # Se a decodificação ou a conversão falharem, adicione None à lista de valores convertidos\n",
    "                valor_convertido = None\n",
    "            valores_convertidos.append(valor_convertido)\n",
    "        # Escreva a lista de valores convertidos no arquivo CSV\n",
    "        writer.writerow(valores_convertidos)\n"
   ]
  },
  {
   "cell_type": "code",
   "execution_count": null,
   "metadata": {},
   "outputs": [],
   "source": [
    "pip install dbfread\n"
   ]
  },
  {
   "cell_type": "code",
   "execution_count": null,
   "metadata": {},
   "outputs": [],
   "source": []
  }
 ],
 "metadata": {
  "kernelspec": {
   "display_name": "base",
   "language": "python",
   "name": "python3"
  },
  "language_info": {
   "codemirror_mode": {
    "name": "ipython",
    "version": 3
   },
   "file_extension": ".py",
   "mimetype": "text/x-python",
   "name": "python",
   "nbconvert_exporter": "python",
   "pygments_lexer": "ipython3",
   "version": "3.11.3"
  }
 },
 "nbformat": 4,
 "nbformat_minor": 2
}
